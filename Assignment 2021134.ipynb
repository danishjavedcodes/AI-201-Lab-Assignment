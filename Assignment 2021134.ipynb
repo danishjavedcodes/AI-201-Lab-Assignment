{
 "cells": [
  {
   "cell_type": "markdown",
   "id": "fb1086c7",
   "metadata": {},
   "source": [
    "Name: Danish Javed  Reg number 2021134"
   ]
  },
  {
   "cell_type": "markdown",
   "id": "4d1be23f",
   "metadata": {},
   "source": [
    "Task 01"
   ]
  },
  {
   "cell_type": "code",
   "execution_count": 1,
   "id": "a0bc1a26",
   "metadata": {},
   "outputs": [
    {
     "name": "stdout",
     "output_type": "stream",
     "text": [
      "50 20 10 15 60 55 65 "
     ]
    }
   ],
   "source": [
    "# Define a class for the binary tree node\n",
    "class Node:\n",
    "    def __init__(self, data):\n",
    "        self.left = None\n",
    "        self.right = None\n",
    "        self.data = data\n",
    "\n",
    "# Define a function for BFS\n",
    "def bfs(root):\n",
    "    # Create a queue for BFS\n",
    "    queue = []\n",
    "    # Append the root node to the queue\n",
    "    queue.append(root)\n",
    "    # Traverse the tree using BFS\n",
    "    while queue:\n",
    "        # Dequeue the first element from the queue\n",
    "        node = queue.pop(0)\n",
    "        # Print the node's data\n",
    "        print(node.data, end=' ')\n",
    "        # If the node has a left child, append it to the queue\n",
    "        if node.left:\n",
    "            queue.append(node.left)\n",
    "        # If the node has a right child, append it to the queue\n",
    "        if node.right:\n",
    "            queue.append(node.right)\n",
    "\n",
    "            \n",
    "            # Define a function for DFS\n",
    "def dfs(node):\n",
    "    # Print the node's data\n",
    "    print(node.data, end=' ')\n",
    "    # If the node has a left child, recursively call dfs on it\n",
    "    if node.left:\n",
    "        dfs(node.left)\n",
    "    # If the node has a right child, recursively call dfs on it\n",
    "    if node.right:\n",
    "        dfs(node.right)\n",
    "\n",
    "\n",
    "\n",
    "# Example usage\n",
    "# Create a binary tree with root node 1\n",
    "root = Node(50)\n",
    "root.left = Node(20)\n",
    "root.right = Node(60)\n",
    "root.left.left = Node(10)\n",
    "root.left.right = Node(15)\n",
    "root.right.left = Node(55)\n",
    "root.right.right = Node(65)\n",
    "\n",
    "# Call the BFS function\n",
    "dfs(root)\n"
   ]
  },
  {
   "cell_type": "code",
   "execution_count": 2,
   "id": "ecbf6cab",
   "metadata": {},
   "outputs": [
    {
     "name": "stdout",
     "output_type": "stream",
     "text": [
      "Following is Breadth First Traversal: \n",
      "0 1 2 3 "
     ]
    }
   ],
   "source": [
    "# BFS algorithm in Python\n",
    "\n",
    "\n",
    "import collections\n",
    "\n",
    "# BFS algorithm\n",
    "def g_bfs(graph, root):\n",
    "\n",
    "    visited, queue = set(), collections.deque([root])\n",
    "    visited.add(root)\n",
    "\n",
    "    while queue:\n",
    "\n",
    "        # Dequeue a vertex from queue\n",
    "        vertex = queue.popleft()\n",
    "        print(str(vertex) + \" \", end=\"\")\n",
    "\n",
    "        # If not visited, mark it as visited, and\n",
    "        # enqueue it\n",
    "        for neighbour in graph[vertex]:\n",
    "            if neighbour not in visited:\n",
    "                visited.add(neighbour)\n",
    "                queue.append(neighbour)\n",
    "\n",
    "\n",
    "if __name__ == '__main__':\n",
    "    graph = {0: [1, 2], 1: [2], 2: [3], 3: [1, 2]}\n",
    "    print(\"Following is Breadth First Traversal: \")\n",
    "    g_bfs(graph, 0)\n"
   ]
  },
  {
   "cell_type": "code",
   "execution_count": 3,
   "id": "18d96e10",
   "metadata": {},
   "outputs": [
    {
     "name": "stdout",
     "output_type": "stream",
     "text": [
      "50 20 10 15 60 55 65 "
     ]
    }
   ],
   "source": [
    "# DFS algorithm in Python\n",
    "\n",
    "\n",
    "# Define a class for the binary tree node\n",
    "class Node:\n",
    "    def __init__(self, data):\n",
    "        self.left = None\n",
    "        self.right = None\n",
    "        self.data = data\n",
    "\n",
    "# Define a function for BFS\n",
    "def bfs(root):\n",
    "    # Create a queue for BFS\n",
    "    queue = []\n",
    "    # Append the root node to the queue\n",
    "    queue.append(root)\n",
    "    # Traverse the tree using BFS\n",
    "    while queue:\n",
    "        # Dequeue the first element from the queue\n",
    "        node = queue.pop(0)\n",
    "        # Print the node's data\n",
    "        print(node.data, end=' ')\n",
    "        # If the node has a left child, append it to the queue\n",
    "        if node.left:\n",
    "            queue.append(node.left)\n",
    "        # If the node has a right child, append it to the queue\n",
    "        if node.right:\n",
    "            queue.append(node.right)\n",
    "\n",
    "            \n",
    "            # Define a function for DFS\n",
    "def dfs(node):\n",
    "    # Print the node's data\n",
    "    print(node.data, end=' ')\n",
    "    # If the node has a left child, recursively call dfs on it\n",
    "    if node.left:\n",
    "        dfs(node.left)\n",
    "    # If the node has a right child, recursively call dfs on it\n",
    "    if node.right:\n",
    "        dfs(node.right)\n",
    "\n",
    "# Example usage\n",
    "# Create a binary tree with root node 1\n",
    "root = Node(50)\n",
    "root.left = Node(20)\n",
    "root.right = Node(60)\n",
    "root.left.left = Node(10)\n",
    "root.left.right = Node(15)\n",
    "root.right.left = Node(55)\n",
    "root.right.right = Node(65)\n",
    "# Call the BFS function\n",
    "dfs(root)"
   ]
  },
  {
   "cell_type": "code",
   "execution_count": 4,
   "id": "dc80d1e4",
   "metadata": {},
   "outputs": [
    {
     "name": "stdout",
     "output_type": "stream",
     "text": [
      "Following is Breadth First Traversal: \n",
      "0 1 2 3 "
     ]
    }
   ],
   "source": [
    "# BFS algorithm in Python\n",
    "\n",
    "\n",
    "import collections\n",
    "\n",
    "# BFS algorithm\n",
    "def bfs(graph, root):\n",
    "\n",
    "    visited, queue = set(), collections.deque([root])\n",
    "    visited.add(root)\n",
    "\n",
    "    while queue:\n",
    "\n",
    "        # Dequeue a vertex from queue\n",
    "        vertex = queue.popleft()\n",
    "        print(str(vertex) + \" \", end=\"\")\n",
    "\n",
    "        # If not visited, mark it as visited, and\n",
    "        # enqueue it\n",
    "        for neighbour in graph[vertex]:\n",
    "            if neighbour not in visited:\n",
    "                visited.add(neighbour)\n",
    "                queue.append(neighbour)\n",
    "\n",
    "\n",
    "if __name__ == '__main__':\n",
    "    graph = {0: [1, 2], 1: [2], 2: [3], 3: [1, 2]}\n",
    "    print(\"Following is Breadth First Traversal: \")\n",
    "    bfs(graph, 0)\n"
   ]
  },
  {
   "cell_type": "code",
   "execution_count": 5,
   "id": "2149107b",
   "metadata": {},
   "outputs": [
    {
     "name": "stdout",
     "output_type": "stream",
     "text": [
      "0\n",
      "1\n",
      "3\n",
      "4\n",
      "2\n",
      "2\n"
     ]
    },
    {
     "data": {
      "text/plain": [
       "{'0', '1', '2', '3', '4'}"
      ]
     },
     "execution_count": 5,
     "metadata": {},
     "output_type": "execute_result"
    }
   ],
   "source": [
    "# DFS algorithm in Python\n",
    "\n",
    "\n",
    "# DFS algorithm\n",
    "def dfs(graph, start, visited=None):\n",
    "    if visited is None:\n",
    "        visited = set()\n",
    "    visited.add(start)\n",
    "\n",
    "    print(start)\n",
    "\n",
    "    for next in graph[start] - visited:\n",
    "        dfs(graph, next, visited)\n",
    "    return visited\n",
    "\n",
    "\n",
    "graph = {'0': set(['1', '2']),\n",
    "         '1': set(['0', '3', '4']),\n",
    "         '2': set(['0']),\n",
    "         '3': set(['1']),\n",
    "         '4': set(['2', '3'])}\n",
    "\n",
    "dfs(graph, '0')"
   ]
  },
  {
   "cell_type": "markdown",
   "id": "e568ceca",
   "metadata": {},
   "source": [
    "Task 02"
   ]
  },
  {
   "cell_type": "code",
   "execution_count": null,
   "id": "ab898d6b",
   "metadata": {},
   "outputs": [],
   "source": []
  },
  {
   "cell_type": "code",
   "execution_count": 6,
   "id": "394d5384",
   "metadata": {},
   "outputs": [],
   "source": [
    "# . Generate random and unique numbers of ranges 1000,40,000,80,000,200,000 and 1,000,000\n",
    "\n",
    "import numpy as np\n",
    "range1 = np.random.choice(np.arange(1,1001), size = 500, replace = False)\n",
    "range2 = np.random.choice(np.arange(1001, 40001), size = 500, replace = False)\n",
    "range3 = np.random.choice(np.arange(40001,80001), size = 500, replace = False)\n",
    "range4 = np.random.choice(np.arange(80001,200001), size = 500, replace = False)\n",
    "range5 = np.random.choice(np.arange(200001,1000001), size = 500, replace = False)"
   ]
  },
  {
   "cell_type": "code",
   "execution_count": 7,
   "id": "8384f782",
   "metadata": {},
   "outputs": [],
   "source": [
    "# Python program to demonstrate\n",
    "# insert operation in binary search tree\n",
    "\n",
    "# A utility class that represents\n",
    "# an individual node in a BST\n",
    "\n",
    "import time\n",
    "\n",
    "\n",
    "\n",
    "class Node:\n",
    "\tdef __init__(self, key):\n",
    "\t\tself.left = None\n",
    "\t\tself.right = None\n",
    "\t\tself.val = key\n",
    "\n",
    "# A utility function to insert\n",
    "# a new node with the given key\n",
    "\n",
    "\n",
    "# Define a function for BFS\n",
    "def bfs(root, goal):\n",
    "    if root.val!=goal:\n",
    "\n",
    "        # Create a queue for BFS\n",
    "        queue = []\n",
    "        # Append the root node to the queue\n",
    "        queue.append(root)\n",
    "        # Traverse the tree using BFS\n",
    "        while queue:\n",
    "            # Dequeue the first element from the queue\n",
    "            node = queue.pop(0)\n",
    "            # Print the node's data\n",
    "#             print(node.val, end=' ')\n",
    "            # If the node has a left child, append it to the queue\n",
    "            if node.left:\n",
    "                queue.append(node.left)\n",
    "            # If the node has a right child, append it to the queue\n",
    "            if node.right:\n",
    "                queue.append(node.right)\n",
    "    \n",
    " \n",
    "def dfs(node, goal):\n",
    "    if node.val != goal:\n",
    "        \n",
    "        # Print the node's data\n",
    "#         print(node.val, end=' ')\n",
    "        # If the node has a left child, recursively call dfs on it\n",
    "        if node.left:\n",
    "            dfs(node.left, goal)\n",
    "        # If the node has a right child, recursively call dfs on it\n",
    "        if node.right:\n",
    "            dfs(node.right, goal)\n",
    "    else:\n",
    "        return\n",
    "\n",
    "def insert(root, key):\n",
    "\tif root is None:\n",
    "\t\treturn Node(key)\n",
    "\telse:\n",
    "\t\tif root.val == key:\n",
    "\t\t\treturn root\n",
    "\t\telif root.val < key:\n",
    "\t\t\troot.right = insert(root.right, key)\n",
    "\t\telse:\n",
    "\t\t\troot.left = insert(root.left, key)\n",
    "\treturn root\n",
    "\n",
    "# A utility function to do inorder tree traversal\n",
    "\n",
    "\n",
    "def inorder(root):\n",
    "\tif root:\n",
    "\t\tinorder(root.left)\n",
    "\t\tprint(root.val)\n",
    "\t\tinorder(root.right)\n",
    "\n",
    "\n",
    "# Driver program to test the above functions\n",
    "# Let us create the following BST\n",
    "# 50\n",
    "# /\t \\\n",
    "# 30\t 70\n",
    "# / \\ / \\\n",
    "# 20 40 60 80\n",
    "\n",
    "# r = Node(50)\n",
    "# r = insert(r, 30)\n",
    "# r = insert(r, 20)\n",
    "# r = insert(r, 40)\n",
    "# r = insert(r, 70)\n",
    "# r = insert(r, 60)\n",
    "# r = insert(r, 80)\n",
    "\n",
    "# # Print inoder traversal of the BST\n",
    "# inorder(r)\n"
   ]
  },
  {
   "cell_type": "code",
   "execution_count": 8,
   "id": "e53e7a37",
   "metadata": {},
   "outputs": [
    {
     "name": "stdout",
     "output_type": "stream",
     "text": [
      "\n",
      "Time taken by BFS is  0.0\n",
      "\n",
      "\n",
      "\n",
      "Time taken by DFS is  0.000988006591796875\n"
     ]
    }
   ],
   "source": [
    "# for range 1\n",
    "root1 = Node(range1[0])\n",
    "for key in range1:\n",
    "    root = insert(root1, key)\n",
    "    \n",
    "# print(\"Inorder traversal: \", end=' ')\n",
    "# inorder(root1)\n",
    "goal = range1[-220]\n",
    "start = time.time()\n",
    "bfs(root1, goal)\n",
    "end = time.time()\n",
    "t_b1 = end - start\n",
    "print('\\nTime taken by BFS is ',t_b1)\n",
    "print('\\n')\n",
    "s = time.time()\n",
    "dfs(root1, goal)\n",
    "e = time.time()\n",
    "t_d1 = e - s\n",
    "print('\\nTime taken by DFS is ',t_d1)"
   ]
  },
  {
   "cell_type": "code",
   "execution_count": 9,
   "id": "803c5eb0",
   "metadata": {},
   "outputs": [
    {
     "name": "stdout",
     "output_type": "stream",
     "text": [
      "\n",
      "Time taken by BFS is  0.0\n",
      "\n",
      "\n",
      "\n",
      "Time taken by DFS is  0.0\n"
     ]
    }
   ],
   "source": [
    "# for range 1\n",
    "root2 = Node(range2[0])\n",
    "for key in range2:\n",
    "    root = insert(root2, key)\n",
    "\n",
    "goal = range1[-220]\n",
    "start = time.time()\n",
    "bfs(root2, goal)\n",
    "end = time.time()\n",
    "t_b2 = end - start\n",
    "print('\\nTime taken by BFS is ',t_b2)\n",
    "print('\\n')\n",
    "s = time.time()\n",
    "dfs(root2, goal)\n",
    "e = time.time()\n",
    "t_d2 = e - s\n",
    "print('\\nTime taken by DFS is ',t_d2)"
   ]
  },
  {
   "cell_type": "code",
   "execution_count": 10,
   "id": "2e0f19bb",
   "metadata": {},
   "outputs": [
    {
     "name": "stdout",
     "output_type": "stream",
     "text": [
      "\n",
      "Time taken by BFS is  0.0\n",
      "\n",
      "\n",
      "\n",
      "Time taken by DFS is  0.0\n"
     ]
    }
   ],
   "source": [
    "# for range 1\n",
    "root3 = Node(range3[0])\n",
    "for key in range3:\n",
    "    root = insert(root3, key)\n",
    "\n",
    "goal = range1[-220]\n",
    "start = time.time()\n",
    "bfs(root3, goal)\n",
    "end = time.time()\n",
    "t_b3 = end - start\n",
    "print('\\nTime taken by BFS is ',t_b3)\n",
    "print('\\n')\n",
    "s = time.time()\n",
    "dfs(root3, goal)\n",
    "e = time.time()\n",
    "t_d3 = e-s\n",
    "print('\\nTime taken by DFS is ',t_d3)"
   ]
  },
  {
   "cell_type": "code",
   "execution_count": 11,
   "id": "4abdb5eb",
   "metadata": {},
   "outputs": [
    {
     "name": "stdout",
     "output_type": "stream",
     "text": [
      "\n",
      "Time taken by BFS is  0.0\n",
      "\n",
      "\n",
      "\n",
      "Time taken by DFS is  0.0\n"
     ]
    }
   ],
   "source": [
    "# for range 1\n",
    "root4 = Node(range4[0])\n",
    "for key in range4:\n",
    "    root = insert(root4, key)\n",
    "\n",
    "    \n",
    "goal = range1[-220]\n",
    "start = time.time()\n",
    "bfs(root4, goal)\n",
    "end = time.time()\n",
    "t_b4 = end - start\n",
    "print('\\nTime taken by BFS is ',t_b4)\n",
    "print('\\n')\n",
    "s = time.time()\n",
    "dfs(root4, goal)\n",
    "e = time.time()\n",
    "t_d4 = e-s\n",
    "print('\\nTime taken by DFS is ',t_d4)"
   ]
  },
  {
   "cell_type": "code",
   "execution_count": 12,
   "id": "8499cc6b",
   "metadata": {},
   "outputs": [
    {
     "name": "stdout",
     "output_type": "stream",
     "text": [
      "\n",
      "Time taken by BFS is  0.0\n",
      "\n",
      "\n",
      "\n",
      "Time taken by DFS is  0.0011417865753173828\n"
     ]
    }
   ],
   "source": [
    "# for range 1\n",
    "root5 = Node(range5[0])\n",
    "for key in range5:\n",
    "    root = insert(root5, key)\n",
    "\n",
    "goal = range1[-220]\n",
    "start = time.time()\n",
    "bfs(root5, goal)\n",
    "end = time.time()\n",
    "t_b5 = end - start\n",
    "print('\\nTime taken by BFS is ',t_b5)\n",
    "print('\\n')\n",
    "s = time.time()\n",
    "dfs(root5, goal)\n",
    "e = time.time()\n",
    "t_d5 = e-s\n",
    "print('\\nTime taken by DFS is ',t_d5)"
   ]
  },
  {
   "cell_type": "code",
   "execution_count": 13,
   "id": "add8e82f",
   "metadata": {},
   "outputs": [],
   "source": [
    "import pandas as pd\n",
    "\n",
    "d = {'bfs_time' : [t_b1, t_b2, t_b3, t_b4, t_b5], \n",
    "      'dfs_time' : [t_d1, t_d2, t_d3, t_d4, t_d5]}\n",
    "\n",
    "df = pd.DataFrame(d, index = [1000,40000,80000,200000, 1000000])"
   ]
  },
  {
   "cell_type": "code",
   "execution_count": 14,
   "id": "cac717b8",
   "metadata": {},
   "outputs": [
    {
     "data": {
      "image/png": "[encoded data removed]",
      "text/plain": [
       "<Figure size 432x288 with 1 Axes>"
      ]
     },
     "metadata": {
      "needs_background": "light"
     },
     "output_type": "display_data"
    }
   ],
   "source": [
    "import matplotlib.pyplot as plt\n",
    "plt.bar(d['bfs_time'], d['dfs_time'])\n",
    "plt.show()"
   ]
  },
  {
   "cell_type": "markdown",
   "id": "e257d9c8",
   "metadata": {},
   "source": [
    "Task 03"
   ]
  },
  {
   "cell_type": "code",
   "execution_count": 16,
   "id": "2e49c066",
   "metadata": {},
   "outputs": [
    {
     "name": "stdout",
     "output_type": "stream",
     "text": [
      "\n",
      "                               _____500_\n",
      "                              /         \\\n",
      "                           _400_        600_\n",
      "                          /     \\           \\\n",
      "       _________________300     350         700_____________\n",
      "      /                                                     \\\n",
      "   _200_                                                   _800\n",
      "  /     \\                                                 /\n",
      "190     201_                                           _790\n",
      "            \\                                         /\n",
      "            210_____                               _780\n",
      "                    \\                             /\n",
      "                   _220                         710\n",
      "                  /\n",
      "                215\n",
      "\n"
     ]
    }
   ],
   "source": [
    "from binarytree import build, build2, Node\n",
    "\n",
    "# First let's create an example tree.\n",
    "root = Node(500)\n",
    "root.left = Node(400)\n",
    "root.left.left = Node(300)\n",
    "root.left.right = Node(350)\n",
    "root.left.left.left = Node(200)\n",
    "root.left.left.left.left = Node(190)\n",
    "root.left.left.left.right = Node(201)\n",
    "root.left.left.left.right.right = Node(210)\n",
    "root.left.left.left.right.right.right = Node(220)\n",
    "root.left.left.left.right.right.right.left = Node(215)\n",
    "root.right = Node(600)\n",
    "root.right.right = Node(700)\n",
    "root.right.right.right = Node(800)\n",
    "root.right.right.right.left = Node(790)\n",
    "root.right.right.right.left.left = Node(780)\n",
    "root.right.right.right.left.left.left = Node(710)\n",
    "\n",
    "\n",
    "print(root)"
   ]
  },
  {
   "cell_type": "code",
   "execution_count": 17,
   "id": "b8ca551e",
   "metadata": {},
   "outputs": [
    {
     "name": "stdout",
     "output_type": "stream",
     "text": [
      "Requirement already satisfied: anytree in c:\\users\\danish javed\\anaconda3\\lib\\site-packages (2.8.0)\n",
      "Requirement already satisfied: six>=1.9.0 in c:\\users\\danish javed\\anaconda3\\lib\\site-packages (from anytree) (1.16.0)\n",
      "Note: you may need to restart the kernel to use updated packages.\n"
     ]
    }
   ],
   "source": [
    "pip install anytree"
   ]
  },
  {
   "cell_type": "code",
   "execution_count": 18,
   "id": "80f3b750",
   "metadata": {},
   "outputs": [],
   "source": [
    ">>> from anytree import Node, RenderTree\n",
    ">>> root = Node(\"500\")\n",
    ">>> root_left = Node(\"400\", parent=root)\n",
    ">>> root_left_left = Node(\"300\", parent=root_left)\n",
    ">>> root_left_right = Node(\"350\", parent=root_left)\n",
    ">>> root_left_left_left = Node(\"200\", parent=root_left_left)\n",
    ">>> root_left_left_left_left = Node(\"190\", parent=root_left_left_left)\n",
    ">>> root_left_left_left_right = Node(\"201\", parent=root_left_left_left)\n",
    ">>> root_left_left_left_right_right = Node(\"210\", parent=root_left_left_left_right)\n",
    ">>> root_left_left_left_right_right_right = Node(\"220\", parent=root_left_left_left_right_right)\n",
    ">>> root_left_left_left_right_right_right_left = Node(\"215\", parent=root_left_left_left_right_right_right)\n",
    ">>> root_right = Node(\"600\", parent=root)\n",
    ">>> root_right_right = Node(\"700\", parent=root_right)\n",
    ">>> root_right_right_right = Node(\"800\", parent=root_right_right)\n",
    ">>> root_right_right_right_left = Node(\"790\", parent=root_right_right_right)\n",
    ">>> root_right_right_right_left_left = Node(\"780\", parent=root_right_right_right_left)\n",
    ">>> root_right_right_right_left_left_left = Node(\"710\", parent=root_right_right_right_left_left)"
   ]
  },
  {
   "cell_type": "code",
   "execution_count": 19,
   "id": "afa6db1b",
   "metadata": {},
   "outputs": [
    {
     "name": "stdout",
     "output_type": "stream",
     "text": [
      "500\n",
      "├── 400\n",
      "│   ├── 300\n",
      "│   │   └── 200\n",
      "│   │       ├── 190\n",
      "│   │       └── 201\n",
      "│   │           └── 210\n",
      "│   │               └── 220\n",
      "│   │                   └── 215\n",
      "│   └── 350\n",
      "└── 600\n",
      "    └── 700\n",
      "        └── 800\n",
      "            └── 790\n",
      "                └── 780\n",
      "                    └── 710\n"
     ]
    }
   ],
   "source": [
    ">>> for pre, fill, node in RenderTree(root):\n",
    "...     print(\"%s%s\" % (pre, node.name))"
   ]
  },
  {
   "cell_type": "code",
   "execution_count": 20,
   "id": "80a5afe9",
   "metadata": {},
   "outputs": [
    {
     "name": "stdout",
     "output_type": "stream",
     "text": [
      "Requirement already satisfied: treelib in c:\\users\\danish javed\\anaconda3\\lib\\site-packages (1.6.1)\n",
      "Requirement already satisfied: future in c:\\users\\danish javed\\anaconda3\\lib\\site-packages (from treelib) (0.18.2)\n",
      "Note: you may need to restart the kernel to use updated packages.\n"
     ]
    }
   ],
   "source": [
    "pip install treelib"
   ]
  },
  {
   "cell_type": "code",
   "execution_count": 21,
   "id": "46f95942",
   "metadata": {},
   "outputs": [
    {
     "name": "stdout",
     "output_type": "stream",
     "text": [
      "500\n",
      "├── 400\n",
      "│   └── 300\n",
      "│       ├── 200\n",
      "│       │   ├── 190\n",
      "│       │   └── 201\n",
      "│       │       └── 210\n",
      "│       │           └── 220\n",
      "│       │               └── 215\n",
      "│       └── 350\n",
      "└── 600\n",
      "    └── 700\n",
      "        └── 800\n",
      "            └── 790\n",
      "                └── 780\n",
      "                    └── 710\n",
      "\n"
     ]
    }
   ],
   "source": [
    ">>> from treelib import Node, Tree\n",
    ">>> tree = Tree()\n",
    ">>> tree.create_node(\"500\", \"500\")  # root node\n",
    ">>> tree.create_node(\"400\", \"400\", parent=\"500\")\n",
    ">>> tree.create_node(\"300\", \"300\", parent=\"400\")\n",
    ">>> tree.create_node(\"350\", \"350\", parent=\"300\")\n",
    ">>> tree.create_node(\"200\", \"200\", parent=\"300\")\n",
    ">>> tree.create_node(\"190\", \"190\", parent=\"200\")\n",
    ">>> tree.create_node(\"201\", \"201\", parent=\"200\")\n",
    ">>> tree.create_node(\"210\", \"210\", parent=\"201\")\n",
    ">>> tree.create_node(\"220\", \"220\", parent=\"210\")\n",
    ">>> tree.create_node(\"215\", \"215\", parent=\"220\")\n",
    ">>> tree.create_node(\"600\", \"600\", parent=\"500\")\n",
    ">>> tree.create_node(\"700\", \"700\", parent=\"600\")\n",
    ">>> tree.create_node(\"800\", \"800\", parent=\"700\")\n",
    ">>> tree.create_node(\"790\", \"790\", parent=\"800\")\n",
    ">>> tree.create_node(\"780\", \"780\", parent=\"790\")\n",
    ">>> tree.create_node(\"710\", \"710\", parent=\"780\")\n",
    "\n",
    "\n",
    ">>> tree.show()"
   ]
  },
  {
   "cell_type": "code",
   "execution_count": 22,
   "id": "28bddf3b",
   "metadata": {},
   "outputs": [],
   "source": [
    "positions = {\n",
    "    500: (0, 200),\n",
    "    400: (-200, 100),\n",
    "    600: (200, 100),\n",
    "    300: (-300, 0),\n",
    "    350: (-100, 0),\n",
    "    700: (300, 0),\n",
    "    200: (-400, -100),\n",
    "    201: (-250, -100),\n",
    "    190: (-500, -200),\n",
    "    210: (-150, -200),\n",
    "    220: (-50, -200),\n",
    "    215: (-100, -300),\n",
    "    800: (400, -100),\n",
    "    790: (250, -100),\n",
    "    780: (150, -200),\n",
    "    710: (450, -200)\n",
    "}\n"
   ]
  },
  {
   "cell_type": "code",
   "execution_count": 1,
   "id": "e62bee65",
   "metadata": {},
   "outputs": [],
   "source": [
    "import turtle\n",
    "\n",
    "def draw_node(node, pos):\n",
    "    turtle.penup()\n",
    "    turtle.goto(pos)\n",
    "    turtle.pendown()\n",
    "    turtle.write(str(node), align=\"center\", font=(\"Arial\", 12, \"normal\"))\n",
    "    turtle.penup()\n",
    "    turtle.goto(pos[0], pos[1]-20)\n",
    "    turtle.pendown()\n",
    "    turtle.dot(10)\n",
    "    turtle.penup()\n",
    "    turtle.goto(pos)\n",
    "\n",
    "def draw_edge(from_pos, to_pos):\n",
    "    turtle.penup()\n",
    "    turtle.goto(from_pos[0], from_pos[1]-20)\n",
    "    turtle.pendown()\n",
    "    turtle.goto(to_pos[0], to_pos[1]+20)\n",
    "\n",
    "def draw_tree(tree, positions):\n",
    "    for node, pos in positions.items():\n",
    "        draw_node(node, pos)\n",
    "        if node in tree:\n",
    "            children = tree[node]\n",
    "            for child in children:\n",
    "                child_pos = positions[child]\n",
    "                draw_edge(pos, child_pos)\n",
    "    turtle.hideturtle()\n",
    "\n",
    "tree = {\n",
    "    500: [400, 600],\n",
    "    400: [300, 350],\n",
    "    600: [700],\n",
    "    300: [200],\n",
    "    350: [201],\n",
    "    700: [800],\n",
    "    200: [190, 201],\n",
    "    201: [210],\n",
    "    190: [],\n",
    "    210: [220],\n",
    "    220: [215],\n",
    "    215: [],\n",
    "    800: [790],\n",
    "    790: [780],\n",
    "    780: [710],\n",
    "    710: []\n",
    "}\n",
    "\n",
    "turtle.speed(\"fastest\")\n",
    "draw_tree(tree, positions)\n",
    "turtle.done()\n"
   ]
  },
  {
   "cell_type": "code",
   "execution_count": 24,
   "id": "21c5f2bb",
   "metadata": {},
   "outputs": [
    {
     "name": "stdout",
     "output_type": "stream",
     "text": [
      "Requirement already satisfied: graphviz in c:\\users\\danish javed\\anaconda3\\lib\\site-packages (0.20.1)\n",
      "Note: you may need to restart the kernel to use updated packages.\n"
     ]
    }
   ],
   "source": [
    "pip install graphviz"
   ]
  },
  {
   "cell_type": "code",
   "execution_count": 25,
   "id": "c3ff4ac1",
   "metadata": {},
   "outputs": [
    {
     "data": {
      "image/svg+xml": [
       "<?xml version=\"1.0\" encoding=\"UTF-8\" standalone=\"no\"?>\n",
       "<!DOCTYPE svg PUBLIC \"-//W3C//DTD SVG 1.1//EN\"\n",
       " \"http://www.w3.org/Graphics/SVG/1.1/DTD/svg11.dtd\">\n",
       "<!-- Generated by graphviz version 7.1.0 (20230121.1956)\n",
       " -->\n",
       "<!-- Pages: 1 -->\n",
       "<svg width=\"8pt\" height=\"8pt\"\n",
       " viewBox=\"0.00 0.00 8.00 8.00\" xmlns=\"http://www.w3.org/2000/svg\" xmlns:xlink=\"http://www.w3.org/1999/xlink\">\n",
       "<g id=\"graph0\" class=\"graph\" transform=\"scale(1 1) rotate(0) translate(4 4)\">\n",
       "<polygon fill=\"white\" stroke=\"none\" points=\"-4,4 -4,-4 4,-4 4,4 -4,4\"/>\n",
       "</g>\n",
       "</svg>\n"
      ],
      "text/plain": [
       "<graphviz.graphs.Digraph at 0x21439dd7640>"
      ]
     },
     "execution_count": 25,
     "metadata": {},
     "output_type": "execute_result"
    }
   ],
   "source": [
    ">>> import graphviz  # doctest: +NO_EXE\n",
    ">>> dot = graphviz.Digraph(comment='The Round Table')\n",
    ">>> dot  #doctest: +ELLIPSIS"
   ]
  },
  {
   "cell_type": "markdown",
   "id": "20164d2b",
   "metadata": {},
   "source": [
    "Task 04"
   ]
  },
  {
   "cell_type": "code",
   "execution_count": 2,
   "id": "5e2bbe01",
   "metadata": {},
   "outputs": [],
   "source": [
    "from queue import PriorityQueue\n",
    "\n",
    "def ucs(graph, start, goal):\n",
    "    # Initialize the priority queue with the starting node and cost 0\n",
    "    queue = PriorityQueue()\n",
    "    queue.put((0, [start]))\n",
    "    visited = set()\n",
    "    \n",
    "    while not queue.empty():\n",
    "        # Get the node with the lowest cost so far\n",
    "        (cost, path) = queue.get()\n",
    "        node = path[-1]\n",
    "        \n",
    "        # Check if we have reached the goal node\n",
    "        if node == goal:\n",
    "            return (cost, path)\n",
    "        \n",
    "        # Check if we have already visited this node\n",
    "        if node in visited:\n",
    "            continue\n",
    "        \n",
    "        # Mark the node as visited\n",
    "        visited.add(node)\n",
    "        \n",
    "        # Expand the node's neighbors and add them to the queue\n",
    "        for neighbor, neighbor_cost in graph[node].items():\n",
    "            if neighbor not in visited:\n",
    "                new_cost = cost + neighbor_cost\n",
    "                new_path = list(path)\n",
    "                new_path.append(neighbor)\n",
    "                queue.put((new_cost, new_path))\n",
    "    \n",
    "    # If we reach this point, the goal node was not found\n",
    "    return None\n",
    "\n",
    "# Example usage\n",
    "# graph = {\n",
    "#     'A': {'B': 5, 'C': 1},\n",
    "#     'B': {'D': 2},\n",
    "#     'C': {'D': 6, 'E': 3},\n",
    "#     'D': {'F': 1},\n",
    "#     'E': {'F': 5},\n",
    "#     'F': {}\n",
    "# }\n",
    "\n"
   ]
  },
  {
   "cell_type": "markdown",
   "id": "4cd52971",
   "metadata": {},
   "source": [
    "Task 05"
   ]
  },
  {
   "cell_type": "code",
   "execution_count": 3,
   "id": "5363cab6",
   "metadata": {},
   "outputs": [
    {
     "name": "stdout",
     "output_type": "stream",
     "text": [
      "UCS path: ['Arad', 'Timisoara', 'Lugoj', 'Mehadia']\n",
      "UCS cost: 299\n"
     ]
    }
   ],
   "source": [
    "graph = {\n",
    "         'Arad':  {'Sibiu': 140, 'Timisoara': 118,'Zerind': 75} ,\n",
    "         'Sibiu':  {'Arad': 140, 'Oradea': 151, 'Fagaras': 99, 'Rimnicu': 80} ,\n",
    "         'Timisoara':  {'Arad': 118, 'Lugoj': 111} ,\n",
    "         'Zerind':  {'Arad': 75, 'Oradea': 71} ,\n",
    "         'Oradea':  {'Zerind': 71, 'Sibiu': 151} ,\n",
    "         'Fagaras':  {'Sibiu': 99, 'Bucharest': 211} ,\n",
    "         'Rimnicu':  {'Sibiu': 80, 'Craivo': 146, 'Pitesti': 97} ,\n",
    "         'Lugoj':  {'Timisoara': 111, 'Mehadia': 70} ,\n",
    "         'Bucharest':  {'Giurgiu': 90, 'Urziceni': 85, 'Pitesti': 101, 'Fagaras': 211} ,\n",
    "         'Craivo':  {'Dobreta': 120, 'Pitesti': 138, 'Rimnicu': 146} ,\n",
    "         'Pitesti':  {'Rimnicu': 97, 'Craivo': 138, 'Bucharest': 101} ,\n",
    "         'Mehadia':  {'Dobreta': 75, 'Lugoj': 70} ,\n",
    "         'Giurgiu':  {'Bucharest': 90} ,\n",
    "         'Urziceni':  {'Bucharest': 85, 'Hirsova': 98, 'Vaslui': 142} ,\n",
    "         'Dobreta':  {'Mehadia': 75, 'Craivo': 120} ,\n",
    "         'Hirsova' :  {'Eforie': 86, 'Urziceni': 98} ,\n",
    "         'Vaslui' :  {'Urziceni': 142, 'Lasi': 92} ,\n",
    "         'Eforie' :  {'Hirsova': 86} ,\n",
    "         'Lasi':  {'Neamt': 87, 'Vaslui': 92} ,\n",
    "         'Neamt':  {'Lasi': 87}\n",
    "}\n",
    "\n",
    "start = 'Arad'\n",
    "goal = 'Mehadia'\n",
    "\n",
    "result = ucs(graph, start, goal)\n",
    "\n",
    "if result:\n",
    "    print(\"UCS path:\", result[1])\n",
    "    print(\"UCS cost:\", result[0])\n",
    "else:\n",
    "    print(\"No path found.\")"
   ]
  },
  {
   "cell_type": "markdown",
   "id": "4e194d2f",
   "metadata": {},
   "source": [
    "Task 06"
   ]
  },
  {
   "cell_type": "code",
   "execution_count": 5,
   "id": "e9c2dbd1",
   "metadata": {},
   "outputs": [
    {
     "name": "stdout",
     "output_type": "stream",
     "text": [
      "{0: 1, 1: 3, 2: 0, 3: 2}\n",
      "{0: 2, 1: 0, 2: 3, 3: 1}\n"
     ]
    }
   ],
   "source": [
    "from collections import deque\n",
    "\n",
    "def bfs_n_queens(n):\n",
    "    def is_valid(state, row, col):\n",
    "        for r, c in state:\n",
    "            if c == col or r - c == row - col or r + c == row + col:\n",
    "                return False\n",
    "        return True\n",
    "\n",
    "    q = deque([[]])\n",
    "    while q:\n",
    "        state = q.popleft()\n",
    "        if len(state) == n:\n",
    "            yield {i: j for i, j in state}\n",
    "        for col in range(n):\n",
    "            if is_valid(state, len(state), col):\n",
    "                q.append(state + [(len(state), col)])\n",
    "                \n",
    "                \n",
    "solutions = list(bfs_n_queens(4))\n",
    "for solution in solutions:\n",
    "    print(solution)\n",
    "\n"
   ]
  },
  {
   "cell_type": "code",
   "execution_count": 6,
   "id": "82ec293c",
   "metadata": {},
   "outputs": [],
   "source": [
    "import heapq\n",
    "\n",
    "def ucs_n_queens(n):\n",
    "    def is_valid(state, row, col):\n",
    "        for r, c in state:\n",
    "            if c == col or r - c == row - col or r + c == row + col:\n",
    "                return False\n",
    "        return True\n",
    "\n",
    "    q = [(0, [])]\n",
    "    while q:\n",
    "        cost, state = heapq.heappop(q)\n",
    "        if len(state) == n:\n",
    "            yield {i: j for i, j in state}\n",
    "        for col in range(n):\n",
    "            if is_valid(state, len(state), col):\n",
    "                new_state = state + [(len(state), col)]\n",
    "                new_cost = len(new_state)\n",
    "                heapq.heappush(q, (new_cost, new_state))\n",
    "\n",
    "                \n",
    "                \n",
    "                \n",
    "                \n",
    "    ucs_n_queens(4)"
   ]
  },
  {
   "cell_type": "code",
   "execution_count": null,
   "id": "30264546",
   "metadata": {},
   "outputs": [],
   "source": []
  }
 ],
 "metadata": {
  "kernelspec": {
   "display_name": "Python 3 (ipykernel)",
   "language": "python",
   "name": "python3"
  },
  "language_info": {
   "codemirror_mode": {
    "name": "ipython",
    "version": 3
   },
   "file_extension": ".py",
   "mimetype": "text/x-python",
   "name": "python",
   "nbconvert_exporter": "python",
   "pygments_lexer": "ipython3",
   "version": "3.9.12"
  }
 },
 "nbformat": 4,
 "nbformat_minor": 5
}
